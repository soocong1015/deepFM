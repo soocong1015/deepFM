{
 "cells": [
  {
   "cell_type": "code",
   "execution_count": 1,
   "metadata": {},
   "outputs": [],
   "source": [
    "import pandas as pd\n",
    "\n",
    "\n",
    "def data_loader(path):\n",
    "    table = pd.read_csv(path, index_col = [0])\n",
    "    return table"
   ]
  },
  {
   "cell_type": "code",
   "execution_count": 2,
   "metadata": {},
   "outputs": [],
   "source": [
    "df = data_loader('./data/laptops.csv')"
   ]
  },
  {
   "attachments": {},
   "cell_type": "markdown",
   "metadata": {},
   "source": [
    "- df로 파일을 불러왔어"
   ]
  },
  {
   "cell_type": "code",
   "execution_count": 3,
   "metadata": {},
   "outputs": [],
   "source": [
    "import pandas as pd\n",
    "from sklearn.metrics import roc_auc_score\n",
    "from sklearn.model_selection import train_test_split\n",
    "from sklearn.preprocessing import LabelEncoder, MinMaxScaler"
   ]
  },
  {
   "cell_type": "code",
   "execution_count": 4,
   "metadata": {},
   "outputs": [],
   "source": [
    "def slice_df(table, col_name):\n",
    "    test_df = table[table[col_name].isnull()==True]\n",
    "    train_df = table[table[col_name].isnull()==False]\n",
    "    return test_df, train_df"
   ]
  },
  {
   "cell_type": "code",
   "execution_count": 5,
   "metadata": {},
   "outputs": [],
   "source": [
    "test_df, train_df = slice_df(df, 'rating')"
   ]
  },
  {
   "attachments": {},
   "cell_type": "markdown",
   "metadata": {},
   "source": [
    "- 'rating' 이 NULL인 데이터프레임이랑 NOT NULL인 데이터프레임으로 나눠짐"
   ]
  },
  {
   "cell_type": "code",
   "execution_count": 6,
   "metadata": {},
   "outputs": [],
   "source": [
    "def slice_sparses(*col_names):\n",
    "    sparse_list = []\n",
    "    for col in col_names:\n",
    "        sparse_list.append(col)\n",
    "    return sparse_list"
   ]
  },
  {
   "cell_type": "code",
   "execution_count": 7,
   "metadata": {},
   "outputs": [],
   "source": [
    "def slice_denses(*col_names):\n",
    "    dense_list = []\n",
    "    for col in col_names:\n",
    "        dense_list.append(col)\n",
    "    return dense_list"
   ]
  },
  {
   "attachments": {},
   "cell_type": "markdown",
   "metadata": {},
   "source": [
    "- sparse column과 dense column을 받아서 리스트로 뱉어주고\n",
    "- 그걸 변수로 다시 저장해야함"
   ]
  },
  {
   "cell_type": "code",
   "execution_count": 8,
   "metadata": {},
   "outputs": [],
   "source": [
    "slice_sparse = slice_sparses('img_link','name','processor','ram','os','storage')"
   ]
  },
  {
   "cell_type": "code",
   "execution_count": 9,
   "metadata": {},
   "outputs": [],
   "source": [
    "slice_dense = slice_denses('price(in Rs.)','display(in inch)')"
   ]
  },
  {
   "cell_type": "code",
   "execution_count": 10,
   "metadata": {},
   "outputs": [
    {
     "data": {
      "text/plain": [
       "['img_link', 'name', 'processor', 'ram', 'os', 'storage']"
      ]
     },
     "execution_count": 10,
     "metadata": {},
     "output_type": "execute_result"
    }
   ],
   "source": [
    "slice_sparse"
   ]
  },
  {
   "cell_type": "code",
   "execution_count": 11,
   "metadata": {},
   "outputs": [],
   "source": [
    "def scaler_encoder(sparese, dense, target_df):\n",
    "    target_df = target_df.copy()\n",
    "    mms = MinMaxScaler(feature_range=(0, 1))\n",
    "    target_df[dense] = mms.fit_transform(target_df[dense])\n",
    "    for feat in sparese:\n",
    "        lbe = LabelEncoder()\n",
    "        target_df[feat] = lbe.fit_transform(target_df[feat])\n",
    "        \n",
    "    return target_df"
   ]
  },
  {
   "cell_type": "code",
   "execution_count": 12,
   "metadata": {},
   "outputs": [],
   "source": [
    "train_df_transform = scaler_encoder(slice_sparse, slice_dense, train_df)\n"
   ]
  },
  {
   "cell_type": "code",
   "execution_count": 13,
   "metadata": {},
   "outputs": [],
   "source": [
    "test_df_transform = scaler_encoder(slice_sparse, slice_dense, test_df)"
   ]
  },
  {
   "cell_type": "code",
   "execution_count": 14,
   "metadata": {},
   "outputs": [],
   "source": [
    "from deepctr.feature_column import SparseFeat, DenseFeat, get_feature_names\n",
    "from deepctr.models import DeepFM"
   ]
  },
  {
   "cell_type": "code",
   "execution_count": 15,
   "metadata": {},
   "outputs": [],
   "source": [
    "def fixlen_feature(target_df, slice_sparse_col, slice_dense_col):\n",
    "    fixlen_feature_columns = [SparseFeat(feat, target_df[feat].max() + 1, embedding_dim=4) for feat in slice_sparse] +\\\n",
    "        [DenseFeat(feat, 1, ) for feat in slice_dense]\n",
    "    return fixlen_feature_columns"
   ]
  },
  {
   "cell_type": "code",
   "execution_count": 16,
   "metadata": {},
   "outputs": [],
   "source": [
    "train_fixlen_feature = fixlen_feature(train_df_transform, slice_sparse, slice_dense)"
   ]
  },
  {
   "cell_type": "code",
   "execution_count": 17,
   "metadata": {},
   "outputs": [],
   "source": [
    "test_fixlen_feature = fixlen_feature(test_df_transform, slice_sparse, slice_dense)"
   ]
  },
  {
   "cell_type": "code",
   "execution_count": 52,
   "metadata": {},
   "outputs": [],
   "source": [
    "def clone_fixlen_feature(fixlen_features):\n",
    "    dnn_feature_col = fixlen_features\n",
    "    linear_feature_col = fixlen_features\n",
    "    return dnn_feature_col, linear_feature_col, get_feature_names(linear_feature_col + dnn_feature_col)"
   ]
  },
  {
   "cell_type": "code",
   "execution_count": 53,
   "metadata": {},
   "outputs": [],
   "source": [
    "dnn_feature_col, linear_feature_col, train_last_feature = clone_fixlen_feature(train_fixlen_feature)"
   ]
  },
  {
   "cell_type": "code",
   "execution_count": 54,
   "metadata": {},
   "outputs": [],
   "source": [
    "def train_test_split_pred(target_df, feature_names):\n",
    "    train, test = train_test_split(target_df, test_size=0.2, random_state=2020)\n",
    "    train_model_input = {name: train[name] for name in feature_names}\n",
    "    test_model_input = {name: test[name] for name in feature_names}\n",
    "    return train_model_input, test_model_input"
   ]
  },
  {
   "cell_type": "code",
   "execution_count": 55,
   "metadata": {},
   "outputs": [
    {
     "data": {
      "text/plain": [
       "[SparseFeat(name='img_link', vocabulary_size=401, embedding_dim=4, use_hash=False, vocabulary_path=None, dtype='int32', embeddings_initializer=<tensorflow.python.keras.initializers.initializers_v1.RandomNormal object at 0x000001D225920520>, embedding_name='img_link', group_name='default_group', trainable=True),\n",
       " SparseFeat(name='name', vocabulary_size=357, embedding_dim=4, use_hash=False, vocabulary_path=None, dtype='int32', embeddings_initializer=<tensorflow.python.keras.initializers.initializers_v1.RandomNormal object at 0x000001D225920FA0>, embedding_name='name', group_name='default_group', trainable=True),\n",
       " SparseFeat(name='processor', vocabulary_size=47, embedding_dim=4, use_hash=False, vocabulary_path=None, dtype='int32', embeddings_initializer=<tensorflow.python.keras.initializers.initializers_v1.RandomNormal object at 0x000001D22590FAC0>, embedding_name='processor', group_name='default_group', trainable=True),\n",
       " SparseFeat(name='ram', vocabulary_size=20, embedding_dim=4, use_hash=False, vocabulary_path=None, dtype='int32', embeddings_initializer=<tensorflow.python.keras.initializers.initializers_v1.RandomNormal object at 0x000001D21CD68E20>, embedding_name='ram', group_name='default_group', trainable=True),\n",
       " SparseFeat(name='os', vocabulary_size=11, embedding_dim=4, use_hash=False, vocabulary_path=None, dtype='int32', embeddings_initializer=<tensorflow.python.keras.initializers.initializers_v1.RandomNormal object at 0x000001D21CD685E0>, embedding_name='os', group_name='default_group', trainable=True),\n",
       " SparseFeat(name='storage', vocabulary_size=15, embedding_dim=4, use_hash=False, vocabulary_path=None, dtype='int32', embeddings_initializer=<tensorflow.python.keras.initializers.initializers_v1.RandomNormal object at 0x000001D21CD680A0>, embedding_name='storage', group_name='default_group', trainable=True),\n",
       " DenseFeat(name='price(in Rs.)', dimension=1, dtype='float32', transform_fn=None),\n",
       " DenseFeat(name='display(in inch)', dimension=1, dtype='float32', transform_fn=None)]"
      ]
     },
     "execution_count": 55,
     "metadata": {},
     "output_type": "execute_result"
    }
   ],
   "source": [
    "train_fixlen_feature"
   ]
  },
  {
   "cell_type": "code",
   "execution_count": 63,
   "metadata": {},
   "outputs": [],
   "source": [
    "train_pred_y = train_test_split_pred(train_df_transform, train_last_feature)"
   ]
  },
  {
   "cell_type": "code",
   "execution_count": 59,
   "metadata": {},
   "outputs": [],
   "source": [
    "def make_model():\n",
    "    DEFAULT_GROUP_NAME = \"default_group\"\n",
    "    model = DeepFM(linear_feature_col, dnn_feature_col, fm_group=(DEFAULT_GROUP_NAME,), dnn_hidden_units=(256, 128, 64),\n",
    "           l2_reg_linear=0.00001, l2_reg_embedding=0.00001, l2_reg_dnn=0, seed=1024, dnn_dropout=0,\n",
    "           dnn_activation='relu', dnn_use_bn=False, task='regression')\n",
    "    return model"
   ]
  },
  {
   "cell_type": "code",
   "execution_count": 60,
   "metadata": {},
   "outputs": [],
   "source": [
    "model = make_model()"
   ]
  },
  {
   "cell_type": "code",
   "execution_count": 61,
   "metadata": {},
   "outputs": [],
   "source": [
    "def model_compile(model ,loss_m, opt, metr):\n",
    "    model = model.compile(loss = loss_m, optimizer = opt, metrics = [metr])\n"
   ]
  },
  {
   "cell_type": "code",
   "execution_count": 62,
   "metadata": {},
   "outputs": [],
   "source": [
    "model_compile(model, 'mean_squared_error', 'adam', 'mse')"
   ]
  },
  {
   "cell_type": "code",
   "execution_count": 64,
   "metadata": {},
   "outputs": [],
   "source": [
    "def model_fit(pred_y_data, target_value, epo):\n",
    "    history = model.fit(pred_y, target_value, batch_size=256, epochs = epo, verbose=2, validation_split=0.2)\n",
    "    return history"
   ]
  },
  {
   "cell_type": "code",
   "execution_count": 66,
   "metadata": {},
   "outputs": [
    {
     "name": "stdout",
     "output_type": "stream",
     "text": [
      "Epoch 1/100\n",
      "1/1 - 0s - loss: 0.0287 - mse: 0.0286 - val_loss: 0.6073 - val_mse: 0.6072\n",
      "Epoch 2/100\n",
      "1/1 - 0s - loss: 0.0280 - mse: 0.0280 - val_loss: 0.6056 - val_mse: 0.6056\n",
      "Epoch 3/100\n",
      "1/1 - 0s - loss: 0.0271 - mse: 0.0271 - val_loss: 0.6020 - val_mse: 0.6020\n",
      "Epoch 4/100\n",
      "1/1 - 0s - loss: 0.0262 - mse: 0.0261 - val_loss: 0.5971 - val_mse: 0.5970\n",
      "Epoch 5/100\n",
      "1/1 - 0s - loss: 0.0252 - mse: 0.0252 - val_loss: 0.5913 - val_mse: 0.5913\n",
      "Epoch 6/100\n",
      "1/1 - 0s - loss: 0.0243 - mse: 0.0243 - val_loss: 0.5854 - val_mse: 0.5854\n",
      "Epoch 7/100\n",
      "1/1 - 0s - loss: 0.0237 - mse: 0.0236 - val_loss: 0.5799 - val_mse: 0.5799\n",
      "Epoch 8/100\n",
      "1/1 - 0s - loss: 0.0232 - mse: 0.0232 - val_loss: 0.5753 - val_mse: 0.5753\n",
      "Epoch 9/100\n",
      "1/1 - 0s - loss: 0.0229 - mse: 0.0228 - val_loss: 0.5721 - val_mse: 0.5720\n",
      "Epoch 10/100\n",
      "1/1 - 0s - loss: 0.0227 - mse: 0.0226 - val_loss: 0.5703 - val_mse: 0.5702\n",
      "Epoch 11/100\n",
      "1/1 - 0s - loss: 0.0224 - mse: 0.0224 - val_loss: 0.5701 - val_mse: 0.5701\n",
      "Epoch 12/100\n",
      "1/1 - 0s - loss: 0.0221 - mse: 0.0221 - val_loss: 0.5716 - val_mse: 0.5715\n",
      "Epoch 13/100\n",
      "1/1 - 0s - loss: 0.0217 - mse: 0.0217 - val_loss: 0.5744 - val_mse: 0.5744\n",
      "Epoch 14/100\n",
      "1/1 - 0s - loss: 0.0213 - mse: 0.0213 - val_loss: 0.5784 - val_mse: 0.5783\n",
      "Epoch 15/100\n",
      "1/1 - 0s - loss: 0.0209 - mse: 0.0209 - val_loss: 0.5831 - val_mse: 0.5831\n",
      "Epoch 16/100\n",
      "1/1 - 0s - loss: 0.0205 - mse: 0.0205 - val_loss: 0.5881 - val_mse: 0.5880\n",
      "Epoch 17/100\n",
      "1/1 - 0s - loss: 0.0203 - mse: 0.0202 - val_loss: 0.5928 - val_mse: 0.5928\n",
      "Epoch 18/100\n",
      "1/1 - 0s - loss: 0.0201 - mse: 0.0200 - val_loss: 0.5966 - val_mse: 0.5965\n",
      "Epoch 19/100\n",
      "1/1 - 0s - loss: 0.0199 - mse: 0.0199 - val_loss: 0.5988 - val_mse: 0.5988\n",
      "Epoch 20/100\n",
      "1/1 - 0s - loss: 0.0198 - mse: 0.0197 - val_loss: 0.5995 - val_mse: 0.5995\n",
      "Epoch 21/100\n",
      "1/1 - 0s - loss: 0.0196 - mse: 0.0196 - val_loss: 0.5988 - val_mse: 0.5988\n",
      "Epoch 22/100\n",
      "1/1 - 0s - loss: 0.0194 - mse: 0.0193 - val_loss: 0.5971 - val_mse: 0.5971\n",
      "Epoch 23/100\n",
      "1/1 - 0s - loss: 0.0191 - mse: 0.0191 - val_loss: 0.5948 - val_mse: 0.5947\n",
      "Epoch 24/100\n",
      "1/1 - 0s - loss: 0.0189 - mse: 0.0189 - val_loss: 0.5922 - val_mse: 0.5921\n",
      "Epoch 25/100\n",
      "1/1 - 0s - loss: 0.0187 - mse: 0.0187 - val_loss: 0.5897 - val_mse: 0.5897\n",
      "Epoch 26/100\n",
      "1/1 - 0s - loss: 0.0186 - mse: 0.0185 - val_loss: 0.5878 - val_mse: 0.5877\n",
      "Epoch 27/100\n",
      "1/1 - 0s - loss: 0.0184 - mse: 0.0184 - val_loss: 0.5865 - val_mse: 0.5864\n",
      "Epoch 28/100\n",
      "1/1 - 0s - loss: 0.0183 - mse: 0.0183 - val_loss: 0.5860 - val_mse: 0.5859\n",
      "Epoch 29/100\n",
      "1/1 - 0s - loss: 0.0182 - mse: 0.0182 - val_loss: 0.5863 - val_mse: 0.5863\n",
      "Epoch 30/100\n",
      "1/1 - 0s - loss: 0.0181 - mse: 0.0181 - val_loss: 0.5875 - val_mse: 0.5874\n",
      "Epoch 31/100\n",
      "1/1 - 0s - loss: 0.0180 - mse: 0.0179 - val_loss: 0.5892 - val_mse: 0.5892\n",
      "Epoch 32/100\n",
      "1/1 - 0s - loss: 0.0178 - mse: 0.0178 - val_loss: 0.5915 - val_mse: 0.5914\n",
      "Epoch 33/100\n",
      "1/1 - 0s - loss: 0.0177 - mse: 0.0177 - val_loss: 0.5939 - val_mse: 0.5939\n",
      "Epoch 34/100\n",
      "1/1 - 0s - loss: 0.0176 - mse: 0.0176 - val_loss: 0.5964 - val_mse: 0.5963\n",
      "Epoch 35/100\n",
      "1/1 - 0s - loss: 0.0175 - mse: 0.0175 - val_loss: 0.5986 - val_mse: 0.5985\n",
      "Epoch 36/100\n",
      "1/1 - 0s - loss: 0.0174 - mse: 0.0174 - val_loss: 0.6003 - val_mse: 0.6002\n",
      "Epoch 37/100\n",
      "1/1 - 0s - loss: 0.0174 - mse: 0.0173 - val_loss: 0.6013 - val_mse: 0.6013\n",
      "Epoch 38/100\n",
      "1/1 - 0s - loss: 0.0173 - mse: 0.0172 - val_loss: 0.6017 - val_mse: 0.6017\n",
      "Epoch 39/100\n",
      "1/1 - 0s - loss: 0.0172 - mse: 0.0172 - val_loss: 0.6015 - val_mse: 0.6015\n",
      "Epoch 40/100\n",
      "1/1 - 0s - loss: 0.0171 - mse: 0.0171 - val_loss: 0.6009 - val_mse: 0.6008\n",
      "Epoch 41/100\n",
      "1/1 - 0s - loss: 0.0170 - mse: 0.0170 - val_loss: 0.6000 - val_mse: 0.5999\n",
      "Epoch 42/100\n",
      "1/1 - 0s - loss: 0.0170 - mse: 0.0169 - val_loss: 0.5990 - val_mse: 0.5990\n",
      "Epoch 43/100\n",
      "1/1 - 0s - loss: 0.0169 - mse: 0.0169 - val_loss: 0.5983 - val_mse: 0.5982\n",
      "Epoch 44/100\n",
      "1/1 - 0s - loss: 0.0169 - mse: 0.0168 - val_loss: 0.5979 - val_mse: 0.5978\n",
      "Epoch 45/100\n",
      "1/1 - 0s - loss: 0.0168 - mse: 0.0168 - val_loss: 0.5979 - val_mse: 0.5978\n",
      "Epoch 46/100\n",
      "1/1 - 0s - loss: 0.0168 - mse: 0.0167 - val_loss: 0.5983 - val_mse: 0.5983\n",
      "Epoch 47/100\n",
      "1/1 - 0s - loss: 0.0167 - mse: 0.0167 - val_loss: 0.5992 - val_mse: 0.5991\n",
      "Epoch 48/100\n",
      "1/1 - 0s - loss: 0.0167 - mse: 0.0166 - val_loss: 0.6003 - val_mse: 0.6003\n",
      "Epoch 49/100\n",
      "1/1 - 0s - loss: 0.0166 - mse: 0.0166 - val_loss: 0.6017 - val_mse: 0.6016\n",
      "Epoch 50/100\n",
      "1/1 - 0s - loss: 0.0166 - mse: 0.0165 - val_loss: 0.6030 - val_mse: 0.6029\n",
      "Epoch 51/100\n",
      "1/1 - 0s - loss: 0.0165 - mse: 0.0165 - val_loss: 0.6041 - val_mse: 0.6041\n",
      "Epoch 52/100\n",
      "1/1 - 0s - loss: 0.0165 - mse: 0.0164 - val_loss: 0.6050 - val_mse: 0.6049\n",
      "Epoch 53/100\n",
      "1/1 - 0s - loss: 0.0164 - mse: 0.0164 - val_loss: 0.6054 - val_mse: 0.6054\n",
      "Epoch 54/100\n",
      "1/1 - 0s - loss: 0.0164 - mse: 0.0164 - val_loss: 0.6055 - val_mse: 0.6054\n",
      "Epoch 55/100\n",
      "1/1 - 0s - loss: 0.0164 - mse: 0.0163 - val_loss: 0.6052 - val_mse: 0.6052\n",
      "Epoch 56/100\n",
      "1/1 - 0s - loss: 0.0163 - mse: 0.0163 - val_loss: 0.6048 - val_mse: 0.6048\n",
      "Epoch 57/100\n",
      "1/1 - 0s - loss: 0.0163 - mse: 0.0162 - val_loss: 0.6043 - val_mse: 0.6043\n",
      "Epoch 58/100\n",
      "1/1 - 0s - loss: 0.0162 - mse: 0.0162 - val_loss: 0.6039 - val_mse: 0.6039\n",
      "Epoch 59/100\n",
      "1/1 - 0s - loss: 0.0162 - mse: 0.0162 - val_loss: 0.6036 - val_mse: 0.6036\n",
      "Epoch 60/100\n",
      "1/1 - 0s - loss: 0.0162 - mse: 0.0161 - val_loss: 0.6036 - val_mse: 0.6036\n",
      "Epoch 61/100\n",
      "1/1 - 0s - loss: 0.0162 - mse: 0.0161 - val_loss: 0.6038 - val_mse: 0.6038\n",
      "Epoch 62/100\n",
      "1/1 - 0s - loss: 0.0161 - mse: 0.0161 - val_loss: 0.6043 - val_mse: 0.6042\n",
      "Epoch 63/100\n",
      "1/1 - 0s - loss: 0.0161 - mse: 0.0161 - val_loss: 0.6049 - val_mse: 0.6048\n",
      "Epoch 64/100\n",
      "1/1 - 0s - loss: 0.0161 - mse: 0.0160 - val_loss: 0.6056 - val_mse: 0.6055\n",
      "Epoch 65/100\n",
      "1/1 - 0s - loss: 0.0160 - mse: 0.0160 - val_loss: 0.6063 - val_mse: 0.6062\n",
      "Epoch 66/100\n",
      "1/1 - 0s - loss: 0.0160 - mse: 0.0160 - val_loss: 0.6069 - val_mse: 0.6068\n",
      "Epoch 67/100\n",
      "1/1 - 0s - loss: 0.0160 - mse: 0.0160 - val_loss: 0.6073 - val_mse: 0.6073\n",
      "Epoch 68/100\n",
      "1/1 - 0s - loss: 0.0160 - mse: 0.0159 - val_loss: 0.6076 - val_mse: 0.6075\n",
      "Epoch 69/100\n",
      "1/1 - 0s - loss: 0.0160 - mse: 0.0159 - val_loss: 0.6076 - val_mse: 0.6076\n",
      "Epoch 70/100\n",
      "1/1 - 0s - loss: 0.0159 - mse: 0.0159 - val_loss: 0.6076 - val_mse: 0.6076\n",
      "Epoch 71/100\n",
      "1/1 - 0s - loss: 0.0159 - mse: 0.0159 - val_loss: 0.6076 - val_mse: 0.6076\n",
      "Epoch 72/100\n",
      "1/1 - 0s - loss: 0.0159 - mse: 0.0159 - val_loss: 0.6077 - val_mse: 0.6076\n",
      "Epoch 73/100\n",
      "1/1 - 0s - loss: 0.0159 - mse: 0.0158 - val_loss: 0.6077 - val_mse: 0.6076\n",
      "Epoch 74/100\n",
      "1/1 - 0s - loss: 0.0159 - mse: 0.0158 - val_loss: 0.6077 - val_mse: 0.6077\n",
      "Epoch 75/100\n",
      "1/1 - 0s - loss: 0.0158 - mse: 0.0158 - val_loss: 0.6080 - val_mse: 0.6079\n",
      "Epoch 76/100\n",
      "1/1 - 0s - loss: 0.0158 - mse: 0.0158 - val_loss: 0.6084 - val_mse: 0.6084\n",
      "Epoch 77/100\n",
      "1/1 - 0s - loss: 0.0158 - mse: 0.0158 - val_loss: 0.6089 - val_mse: 0.6088\n",
      "Epoch 78/100\n",
      "1/1 - 0s - loss: 0.0158 - mse: 0.0158 - val_loss: 0.6093 - val_mse: 0.6092\n",
      "Epoch 79/100\n",
      "1/1 - 0s - loss: 0.0158 - mse: 0.0157 - val_loss: 0.6097 - val_mse: 0.6097\n",
      "Epoch 80/100\n",
      "1/1 - 0s - loss: 0.0158 - mse: 0.0157 - val_loss: 0.6101 - val_mse: 0.6101\n",
      "Epoch 81/100\n",
      "1/1 - 0s - loss: 0.0157 - mse: 0.0157 - val_loss: 0.6105 - val_mse: 0.6105\n",
      "Epoch 82/100\n",
      "1/1 - 0s - loss: 0.0157 - mse: 0.0157 - val_loss: 0.6108 - val_mse: 0.6108\n",
      "Epoch 83/100\n",
      "1/1 - 0s - loss: 0.0157 - mse: 0.0157 - val_loss: 0.6111 - val_mse: 0.6110\n",
      "Epoch 84/100\n",
      "1/1 - 0s - loss: 0.0157 - mse: 0.0157 - val_loss: 0.6114 - val_mse: 0.6113\n",
      "Epoch 85/100\n",
      "1/1 - 0s - loss: 0.0157 - mse: 0.0157 - val_loss: 0.6119 - val_mse: 0.6118\n",
      "Epoch 86/100\n",
      "1/1 - 0s - loss: 0.0157 - mse: 0.0156 - val_loss: 0.6116 - val_mse: 0.6116\n",
      "Epoch 87/100\n",
      "1/1 - 0s - loss: 0.0157 - mse: 0.0156 - val_loss: 0.6115 - val_mse: 0.6114\n",
      "Epoch 88/100\n",
      "1/1 - 0s - loss: 0.0157 - mse: 0.0156 - val_loss: 0.6115 - val_mse: 0.6114\n",
      "Epoch 89/100\n",
      "1/1 - 0s - loss: 0.0156 - mse: 0.0156 - val_loss: 0.6116 - val_mse: 0.6115\n",
      "Epoch 90/100\n",
      "1/1 - 0s - loss: 0.0156 - mse: 0.0156 - val_loss: 0.6117 - val_mse: 0.6116\n",
      "Epoch 91/100\n",
      "1/1 - 0s - loss: 0.0156 - mse: 0.0156 - val_loss: 0.6119 - val_mse: 0.6118\n",
      "Epoch 92/100\n",
      "1/1 - 0s - loss: 0.0156 - mse: 0.0156 - val_loss: 0.6121 - val_mse: 0.6120\n",
      "Epoch 93/100\n",
      "1/1 - 0s - loss: 0.0156 - mse: 0.0156 - val_loss: 0.6123 - val_mse: 0.6123\n",
      "Epoch 94/100\n",
      "1/1 - 0s - loss: 0.0156 - mse: 0.0156 - val_loss: 0.6126 - val_mse: 0.6125\n",
      "Epoch 95/100\n",
      "1/1 - 0s - loss: 0.0156 - mse: 0.0155 - val_loss: 0.6128 - val_mse: 0.6128\n",
      "Epoch 96/100\n",
      "1/1 - 0s - loss: 0.0156 - mse: 0.0155 - val_loss: 0.6130 - val_mse: 0.6129\n",
      "Epoch 97/100\n",
      "1/1 - 0s - loss: 0.0156 - mse: 0.0155 - val_loss: 0.6129 - val_mse: 0.6129\n",
      "Epoch 98/100\n",
      "1/1 - 0s - loss: 0.0156 - mse: 0.0155 - val_loss: 0.6128 - val_mse: 0.6128\n",
      "Epoch 99/100\n",
      "1/1 - 0s - loss: 0.0156 - mse: 0.0155 - val_loss: 0.6127 - val_mse: 0.6126\n",
      "Epoch 100/100\n",
      "1/1 - 0s - loss: 0.0155 - mse: 0.0155 - val_loss: 0.6126 - val_mse: 0.6125\n"
     ]
    }
   ],
   "source": [
    "train_history = model_fit(train_pred_y, train_df_transform['rating'], 100)"
   ]
  },
  {
   "cell_type": "code",
   "execution_count": null,
   "metadata": {},
   "outputs": [],
   "source": [
    "def model_predict(pred_y, target_df,col_name):\n",
    "    pred_y = model.predict(pred_y)\n",
    "    target_df[col_name] = pred_y\n",
    "    return train_df"
   ]
  },
  {
   "cell_type": "code",
   "execution_count": null,
   "metadata": {},
   "outputs": [],
   "source": [
    " model_predict(pred_y, train_df, 'rating_new')"
   ]
  },
  {
   "attachments": {},
   "cell_type": "markdown",
   "metadata": {},
   "source": [
    "---\n"
   ]
  },
  {
   "cell_type": "code",
   "execution_count": 41,
   "metadata": {},
   "outputs": [],
   "source": [
    "def not_split_pred(target_df, target_feature_names):\n",
    "    pred_y = {name: target_df[name] for name in target_feature_names}\n",
    "    return pred_y"
   ]
  },
  {
   "cell_type": "code",
   "execution_count": 42,
   "metadata": {},
   "outputs": [],
   "source": [
    "pred_y = pred_make(test_df_transform, test_last_feature)"
   ]
  },
  {
   "attachments": {},
   "cell_type": "markdown",
   "metadata": {},
   "source": [
    "---"
   ]
  },
  {
   "cell_type": "code",
   "execution_count": null,
   "metadata": {},
   "outputs": [
    {
     "ename": "TypeError",
     "evalue": "'DataFrame' object is not callable",
     "output_type": "error",
     "traceback": [
      "\u001b[1;31m---------------------------------------------------------------------------\u001b[0m",
      "\u001b[1;31mTypeError\u001b[0m                                 Traceback (most recent call last)",
      "\u001b[1;32m~\\AppData\\Local\\Temp\\ipykernel_29052\\2381492908.py\u001b[0m in \u001b[0;36m<module>\u001b[1;34m\u001b[0m\n\u001b[1;32m----> 1\u001b[1;33m \u001b[0mtest_scaler_encoder\u001b[0m \u001b[1;33m=\u001b[0m\u001b[0mscaler_encoder\u001b[0m\u001b[1;33m(\u001b[0m\u001b[0mslice_sparse\u001b[0m\u001b[1;33m,\u001b[0m \u001b[0mslice_dense\u001b[0m\u001b[1;33m,\u001b[0m \u001b[0mtest_df\u001b[0m\u001b[1;33m)\u001b[0m\u001b[1;33m\u001b[0m\u001b[1;33m\u001b[0m\u001b[0m\n\u001b[0m",
      "\u001b[1;31mTypeError\u001b[0m: 'DataFrame' object is not callable"
     ]
    }
   ],
   "source": [
    "test_scaler_encoder =scaler_encoder(slice_sparse, slice_dense, test_df)"
   ]
  },
  {
   "cell_type": "code",
   "execution_count": null,
   "metadata": {},
   "outputs": [
    {
     "data": {
      "text/plain": [
       "['img_link', 'name', 'processor', 'ram', 'os', 'storage']"
      ]
     },
     "execution_count": 36,
     "metadata": {},
     "output_type": "execute_result"
    }
   ],
   "source": [
    "slice_sparse"
   ]
  },
  {
   "cell_type": "code",
   "execution_count": null,
   "metadata": {},
   "outputs": [
    {
     "data": {
      "text/plain": [
       "['price(in Rs.)', 'display(in inch)']"
      ]
     },
     "execution_count": 37,
     "metadata": {},
     "output_type": "execute_result"
    }
   ],
   "source": [
    "slice_dense"
   ]
  },
  {
   "cell_type": "code",
   "execution_count": null,
   "metadata": {},
   "outputs": [
    {
     "data": {
      "text/html": [
       "<div>\n",
       "<style scoped>\n",
       "    .dataframe tbody tr th:only-of-type {\n",
       "        vertical-align: middle;\n",
       "    }\n",
       "\n",
       "    .dataframe tbody tr th {\n",
       "        vertical-align: top;\n",
       "    }\n",
       "\n",
       "    .dataframe thead th {\n",
       "        text-align: right;\n",
       "    }\n",
       "</style>\n",
       "<table border=\"1\" class=\"dataframe\">\n",
       "  <thead>\n",
       "    <tr style=\"text-align: right;\">\n",
       "      <th></th>\n",
       "      <th>img_link</th>\n",
       "      <th>name</th>\n",
       "      <th>price(in Rs.)</th>\n",
       "      <th>processor</th>\n",
       "      <th>ram</th>\n",
       "      <th>os</th>\n",
       "      <th>storage</th>\n",
       "      <th>display(in inch)</th>\n",
       "      <th>rating</th>\n",
       "      <th>no_of_ratings</th>\n",
       "      <th>no_of_reviews</th>\n",
       "    </tr>\n",
       "  </thead>\n",
       "  <tbody>\n",
       "    <tr>\n",
       "      <th>7</th>\n",
       "      <td>165</td>\n",
       "      <td>91</td>\n",
       "      <td>0.042250</td>\n",
       "      <td>1</td>\n",
       "      <td>13</td>\n",
       "      <td>1</td>\n",
       "      <td>7</td>\n",
       "      <td>0.421053</td>\n",
       "      <td>NaN</td>\n",
       "      <td>NaN</td>\n",
       "      <td>NaN</td>\n",
       "    </tr>\n",
       "    <tr>\n",
       "      <th>53</th>\n",
       "      <td>162</td>\n",
       "      <td>0</td>\n",
       "      <td>0.280000</td>\n",
       "      <td>11</td>\n",
       "      <td>17</td>\n",
       "      <td>3</td>\n",
       "      <td>10</td>\n",
       "      <td>0.350877</td>\n",
       "      <td>NaN</td>\n",
       "      <td>NaN</td>\n",
       "      <td>NaN</td>\n",
       "    </tr>\n",
       "    <tr>\n",
       "      <th>58</th>\n",
       "      <td>94</td>\n",
       "      <td>62</td>\n",
       "      <td>0.137500</td>\n",
       "      <td>18</td>\n",
       "      <td>16</td>\n",
       "      <td>1</td>\n",
       "      <td>10</td>\n",
       "      <td>0.421053</td>\n",
       "      <td>NaN</td>\n",
       "      <td>NaN</td>\n",
       "      <td>NaN</td>\n",
       "    </tr>\n",
       "    <tr>\n",
       "      <th>64</th>\n",
       "      <td>92</td>\n",
       "      <td>116</td>\n",
       "      <td>0.175000</td>\n",
       "      <td>24</td>\n",
       "      <td>0</td>\n",
       "      <td>1</td>\n",
       "      <td>3</td>\n",
       "      <td>0.421053</td>\n",
       "      <td>NaN</td>\n",
       "      <td>NaN</td>\n",
       "      <td>NaN</td>\n",
       "    </tr>\n",
       "    <tr>\n",
       "      <th>72</th>\n",
       "      <td>119</td>\n",
       "      <td>165</td>\n",
       "      <td>0.950000</td>\n",
       "      <td>31</td>\n",
       "      <td>8</td>\n",
       "      <td>5</td>\n",
       "      <td>5</td>\n",
       "      <td>0.947368</td>\n",
       "      <td>NaN</td>\n",
       "      <td>NaN</td>\n",
       "      <td>NaN</td>\n",
       "    </tr>\n",
       "    <tr>\n",
       "      <th>...</th>\n",
       "      <td>...</td>\n",
       "      <td>...</td>\n",
       "      <td>...</td>\n",
       "      <td>...</td>\n",
       "      <td>...</td>\n",
       "      <td>...</td>\n",
       "      <td>...</td>\n",
       "      <td>...</td>\n",
       "      <td>...</td>\n",
       "      <td>...</td>\n",
       "      <td>...</td>\n",
       "    </tr>\n",
       "    <tr>\n",
       "      <th>971</th>\n",
       "      <td>165</td>\n",
       "      <td>91</td>\n",
       "      <td>0.042250</td>\n",
       "      <td>1</td>\n",
       "      <td>13</td>\n",
       "      <td>1</td>\n",
       "      <td>7</td>\n",
       "      <td>0.421053</td>\n",
       "      <td>NaN</td>\n",
       "      <td>NaN</td>\n",
       "      <td>NaN</td>\n",
       "    </tr>\n",
       "    <tr>\n",
       "      <th>972</th>\n",
       "      <td>204</td>\n",
       "      <td>105</td>\n",
       "      <td>0.200022</td>\n",
       "      <td>19</td>\n",
       "      <td>0</td>\n",
       "      <td>5</td>\n",
       "      <td>10</td>\n",
       "      <td>0.701754</td>\n",
       "      <td>NaN</td>\n",
       "      <td>NaN</td>\n",
       "      <td>NaN</td>\n",
       "    </tr>\n",
       "    <tr>\n",
       "      <th>975</th>\n",
       "      <td>189</td>\n",
       "      <td>173</td>\n",
       "      <td>0.462525</td>\n",
       "      <td>24</td>\n",
       "      <td>1</td>\n",
       "      <td>1</td>\n",
       "      <td>3</td>\n",
       "      <td>1.000000</td>\n",
       "      <td>NaN</td>\n",
       "      <td>NaN</td>\n",
       "      <td>NaN</td>\n",
       "    </tr>\n",
       "    <tr>\n",
       "      <th>977</th>\n",
       "      <td>134</td>\n",
       "      <td>72</td>\n",
       "      <td>0.118775</td>\n",
       "      <td>18</td>\n",
       "      <td>0</td>\n",
       "      <td>1</td>\n",
       "      <td>10</td>\n",
       "      <td>0.701754</td>\n",
       "      <td>NaN</td>\n",
       "      <td>NaN</td>\n",
       "      <td>NaN</td>\n",
       "    </tr>\n",
       "    <tr>\n",
       "      <th>983</th>\n",
       "      <td>185</td>\n",
       "      <td>5</td>\n",
       "      <td>0.011375</td>\n",
       "      <td>13</td>\n",
       "      <td>11</td>\n",
       "      <td>5</td>\n",
       "      <td>7</td>\n",
       "      <td>0.421053</td>\n",
       "      <td>NaN</td>\n",
       "      <td>NaN</td>\n",
       "      <td>NaN</td>\n",
       "    </tr>\n",
       "  </tbody>\n",
       "</table>\n",
       "<p>296 rows × 11 columns</p>\n",
       "</div>"
      ],
      "text/plain": [
       "     img_link  name  price(in Rs.)  processor  ram  os  storage  \\\n",
       "7         165    91       0.042250          1   13   1        7   \n",
       "53        162     0       0.280000         11   17   3       10   \n",
       "58         94    62       0.137500         18   16   1       10   \n",
       "64         92   116       0.175000         24    0   1        3   \n",
       "72        119   165       0.950000         31    8   5        5   \n",
       "..        ...   ...            ...        ...  ...  ..      ...   \n",
       "971       165    91       0.042250          1   13   1        7   \n",
       "972       204   105       0.200022         19    0   5       10   \n",
       "975       189   173       0.462525         24    1   1        3   \n",
       "977       134    72       0.118775         18    0   1       10   \n",
       "983       185     5       0.011375         13   11   5        7   \n",
       "\n",
       "     display(in inch)  rating  no_of_ratings  no_of_reviews  \n",
       "7            0.421053     NaN            NaN            NaN  \n",
       "53           0.350877     NaN            NaN            NaN  \n",
       "58           0.421053     NaN            NaN            NaN  \n",
       "64           0.421053     NaN            NaN            NaN  \n",
       "72           0.947368     NaN            NaN            NaN  \n",
       "..                ...     ...            ...            ...  \n",
       "971          0.421053     NaN            NaN            NaN  \n",
       "972          0.701754     NaN            NaN            NaN  \n",
       "975          1.000000     NaN            NaN            NaN  \n",
       "977          0.701754     NaN            NaN            NaN  \n",
       "983          0.421053     NaN            NaN            NaN  \n",
       "\n",
       "[296 rows x 11 columns]"
      ]
     },
     "execution_count": 38,
     "metadata": {},
     "output_type": "execute_result"
    }
   ],
   "source": [
    "test_df"
   ]
  },
  {
   "cell_type": "code",
   "execution_count": null,
   "metadata": {},
   "outputs": [
    {
     "ename": "TypeError",
     "evalue": "'DataFrame' object is not callable",
     "output_type": "error",
     "traceback": [
      "\u001b[1;31m---------------------------------------------------------------------------\u001b[0m",
      "\u001b[1;31mTypeError\u001b[0m                                 Traceback (most recent call last)",
      "\u001b[1;32m~\\AppData\\Local\\Temp\\ipykernel_29052\\2881588600.py\u001b[0m in \u001b[0;36m<module>\u001b[1;34m\u001b[0m\n\u001b[1;32m----> 1\u001b[1;33m \u001b[0mscaler_encoder\u001b[0m\u001b[1;33m(\u001b[0m\u001b[0mslice_sparse\u001b[0m\u001b[1;33m,\u001b[0m \u001b[0mslice_dense\u001b[0m\u001b[1;33m,\u001b[0m \u001b[0mtrain_df\u001b[0m\u001b[1;33m)\u001b[0m\u001b[1;33m\u001b[0m\u001b[1;33m\u001b[0m\u001b[0m\n\u001b[0m",
      "\u001b[1;31mTypeError\u001b[0m: 'DataFrame' object is not callable"
     ]
    }
   ],
   "source": [
    "scaler_encoder(slice_sparse, slice _dense, train_df)"
   ]
  },
  {
   "cell_type": "code",
   "execution_count": null,
   "metadata": {},
   "outputs": [],
   "source": []
  }
 ],
 "metadata": {
  "kernelspec": {
   "display_name": "base",
   "language": "python",
   "name": "python3"
  },
  "language_info": {
   "codemirror_mode": {
    "name": "ipython",
    "version": 3
   },
   "file_extension": ".py",
   "mimetype": "text/x-python",
   "name": "python",
   "nbconvert_exporter": "python",
   "pygments_lexer": "ipython3",
   "version": "3.9.13"
  },
  "orig_nbformat": 4,
  "vscode": {
   "interpreter": {
    "hash": "ad2bdc8ecc057115af97d19610ffacc2b4e99fae6737bb82f5d7fb13d2f2c186"
   }
  }
 },
 "nbformat": 4,
 "nbformat_minor": 2
}
